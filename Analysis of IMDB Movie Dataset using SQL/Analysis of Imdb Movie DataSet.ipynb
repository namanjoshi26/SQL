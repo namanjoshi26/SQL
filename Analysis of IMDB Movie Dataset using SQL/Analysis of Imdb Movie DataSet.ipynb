{
  "cells": [
    {
      "attachments": {},
      "cell_type": "markdown",
      "metadata": {
        "id": "hmzI5oZ6E_Hp"
      },
      "source": [
        "# ANALYSIS OF IMDB MOVIE DATASET USING SQL"
      ]
    },
    {
      "cell_type": "code",
      "execution_count": null,
      "metadata": {
        "id": "wso5pGwnE_Ht"
      },
      "outputs": [],
      "source": [
        "import pandas as pd\n",
        "import sqlite3\n",
        "\n",
        "from IPython.display import display, HTML"
      ]
    },
    {
      "cell_type": "code",
      "execution_count": null,
      "metadata": {
        "id": "uMYMAPLm23sp"
      },
      "outputs": [],
      "source": [
        "# Note that this is not the same db we have used in course videos, please download from this link\n",
        "# https://drive.google.com/file/d/1O-1-L1DdNxEK6O6nG2jS31MbrMh-OnXM/view?usp=sharing"
      ]
    },
    {
      "cell_type": "code",
      "execution_count": null,
      "metadata": {
        "id": "xrUl9ShkE_H0"
      },
      "outputs": [],
      "source": [
        "conn = sqlite3.connect(\"/content/Db-IMDB.db\")"
      ]
    },
    {
      "cell_type": "markdown",
      "metadata": {
        "id": "Z_ADQl2BE_H6"
      },
      "source": [
        "#### Overview of all tables"
      ]
    },
    {
      "cell_type": "code",
      "execution_count": null,
      "metadata": {
        "id": "7ZfheusYE_H7",
        "scrolled": true
      },
      "outputs": [],
      "source": [
        "tables = pd.read_sql_query(\"SELECT NAME AS 'Table_Name' FROM sqlite_master WHERE type='table'\",conn)\n",
        "tables = tables[\"Table_Name\"].values.tolist()"
      ]
    },
    {
      "cell_type": "code",
      "execution_count": null,
      "metadata": {
        "colab": {
          "base_uri": "https://localhost:8080/",
          "height": 1000
        },
        "id": "f3zLh5FGE_H_",
        "outputId": "88525d70-63e9-49e7-fc0c-159c9b962974",
        "scrolled": true
      },
      "outputs": [
        {
          "name": "stdout",
          "output_type": "stream",
          "text": [
            "Schema of Movie\n"
          ]
        },
        {
          "data": {
            "text/html": [
              "<div>\n",
              "<style scoped>\n",
              "    .dataframe tbody tr th:only-of-type {\n",
              "        vertical-align: middle;\n",
              "    }\n",
              "\n",
              "    .dataframe tbody tr th {\n",
              "        vertical-align: top;\n",
              "    }\n",
              "\n",
              "    .dataframe thead th {\n",
              "        text-align: right;\n",
              "    }\n",
              "</style>\n",
              "<table border=\"1\" class=\"dataframe\">\n",
              "  <thead>\n",
              "    <tr style=\"text-align: right;\">\n",
              "      <th></th>\n",
              "      <th>cid</th>\n",
              "      <th>name</th>\n",
              "      <th>type</th>\n",
              "      <th>notnull</th>\n",
              "      <th>dflt_value</th>\n",
              "      <th>pk</th>\n",
              "    </tr>\n",
              "  </thead>\n",
              "  <tbody>\n",
              "    <tr>\n",
              "      <th>0</th>\n",
              "      <td>0</td>\n",
              "      <td>index</td>\n",
              "      <td>INTEGER</td>\n",
              "      <td>0</td>\n",
              "      <td>None</td>\n",
              "      <td>0</td>\n",
              "    </tr>\n",
              "    <tr>\n",
              "      <th>1</th>\n",
              "      <td>1</td>\n",
              "      <td>MID</td>\n",
              "      <td>TEXT</td>\n",
              "      <td>0</td>\n",
              "      <td>None</td>\n",
              "      <td>0</td>\n",
              "    </tr>\n",
              "    <tr>\n",
              "      <th>2</th>\n",
              "      <td>2</td>\n",
              "      <td>title</td>\n",
              "      <td>TEXT</td>\n",
              "      <td>0</td>\n",
              "      <td>None</td>\n",
              "      <td>0</td>\n",
              "    </tr>\n",
              "    <tr>\n",
              "      <th>3</th>\n",
              "      <td>3</td>\n",
              "      <td>year</td>\n",
              "      <td>TEXT</td>\n",
              "      <td>0</td>\n",
              "      <td>None</td>\n",
              "      <td>0</td>\n",
              "    </tr>\n",
              "    <tr>\n",
              "      <th>4</th>\n",
              "      <td>4</td>\n",
              "      <td>rating</td>\n",
              "      <td>REAL</td>\n",
              "      <td>0</td>\n",
              "      <td>None</td>\n",
              "      <td>0</td>\n",
              "    </tr>\n",
              "    <tr>\n",
              "      <th>5</th>\n",
              "      <td>5</td>\n",
              "      <td>num_votes</td>\n",
              "      <td>INTEGER</td>\n",
              "      <td>0</td>\n",
              "      <td>None</td>\n",
              "      <td>0</td>\n",
              "    </tr>\n",
              "  </tbody>\n",
              "</table>\n",
              "</div>"
            ],
            "text/plain": [
              "   cid       name     type  notnull dflt_value  pk\n",
              "0    0      index  INTEGER        0       None   0\n",
              "1    1        MID     TEXT        0       None   0\n",
              "2    2      title     TEXT        0       None   0\n",
              "3    3       year     TEXT        0       None   0\n",
              "4    4     rating     REAL        0       None   0\n",
              "5    5  num_votes  INTEGER        0       None   0"
            ]
          },
          "metadata": {
            "tags": []
          },
          "output_type": "display_data"
        },
        {
          "name": "stdout",
          "output_type": "stream",
          "text": [
            "----------------------------------------------------------------------------------------------------\n",
            "\n",
            "\n",
            "Schema of Genre\n"
          ]
        },
        {
          "data": {
            "text/html": [
              "<div>\n",
              "<style scoped>\n",
              "    .dataframe tbody tr th:only-of-type {\n",
              "        vertical-align: middle;\n",
              "    }\n",
              "\n",
              "    .dataframe tbody tr th {\n",
              "        vertical-align: top;\n",
              "    }\n",
              "\n",
              "    .dataframe thead th {\n",
              "        text-align: right;\n",
              "    }\n",
              "</style>\n",
              "<table border=\"1\" class=\"dataframe\">\n",
              "  <thead>\n",
              "    <tr style=\"text-align: right;\">\n",
              "      <th></th>\n",
              "      <th>cid</th>\n",
              "      <th>name</th>\n",
              "      <th>type</th>\n",
              "      <th>notnull</th>\n",
              "      <th>dflt_value</th>\n",
              "      <th>pk</th>\n",
              "    </tr>\n",
              "  </thead>\n",
              "  <tbody>\n",
              "    <tr>\n",
              "      <th>0</th>\n",
              "      <td>0</td>\n",
              "      <td>index</td>\n",
              "      <td>INTEGER</td>\n",
              "      <td>0</td>\n",
              "      <td>None</td>\n",
              "      <td>0</td>\n",
              "    </tr>\n",
              "    <tr>\n",
              "      <th>1</th>\n",
              "      <td>1</td>\n",
              "      <td>Name</td>\n",
              "      <td>TEXT</td>\n",
              "      <td>0</td>\n",
              "      <td>None</td>\n",
              "      <td>0</td>\n",
              "    </tr>\n",
              "    <tr>\n",
              "      <th>2</th>\n",
              "      <td>2</td>\n",
              "      <td>GID</td>\n",
              "      <td>INTEGER</td>\n",
              "      <td>0</td>\n",
              "      <td>None</td>\n",
              "      <td>0</td>\n",
              "    </tr>\n",
              "  </tbody>\n",
              "</table>\n",
              "</div>"
            ],
            "text/plain": [
              "   cid   name     type  notnull dflt_value  pk\n",
              "0    0  index  INTEGER        0       None   0\n",
              "1    1   Name     TEXT        0       None   0\n",
              "2    2    GID  INTEGER        0       None   0"
            ]
          },
          "metadata": {
            "tags": []
          },
          "output_type": "display_data"
        },
        {
          "name": "stdout",
          "output_type": "stream",
          "text": [
            "----------------------------------------------------------------------------------------------------\n",
            "\n",
            "\n",
            "Schema of Language\n"
          ]
        },
        {
          "data": {
            "text/html": [
              "<div>\n",
              "<style scoped>\n",
              "    .dataframe tbody tr th:only-of-type {\n",
              "        vertical-align: middle;\n",
              "    }\n",
              "\n",
              "    .dataframe tbody tr th {\n",
              "        vertical-align: top;\n",
              "    }\n",
              "\n",
              "    .dataframe thead th {\n",
              "        text-align: right;\n",
              "    }\n",
              "</style>\n",
              "<table border=\"1\" class=\"dataframe\">\n",
              "  <thead>\n",
              "    <tr style=\"text-align: right;\">\n",
              "      <th></th>\n",
              "      <th>cid</th>\n",
              "      <th>name</th>\n",
              "      <th>type</th>\n",
              "      <th>notnull</th>\n",
              "      <th>dflt_value</th>\n",
              "      <th>pk</th>\n",
              "    </tr>\n",
              "  </thead>\n",
              "  <tbody>\n",
              "    <tr>\n",
              "      <th>0</th>\n",
              "      <td>0</td>\n",
              "      <td>index</td>\n",
              "      <td>INTEGER</td>\n",
              "      <td>0</td>\n",
              "      <td>None</td>\n",
              "      <td>0</td>\n",
              "    </tr>\n",
              "    <tr>\n",
              "      <th>1</th>\n",
              "      <td>1</td>\n",
              "      <td>Name</td>\n",
              "      <td>TEXT</td>\n",
              "      <td>0</td>\n",
              "      <td>None</td>\n",
              "      <td>0</td>\n",
              "    </tr>\n",
              "    <tr>\n",
              "      <th>2</th>\n",
              "      <td>2</td>\n",
              "      <td>LAID</td>\n",
              "      <td>INTEGER</td>\n",
              "      <td>0</td>\n",
              "      <td>None</td>\n",
              "      <td>0</td>\n",
              "    </tr>\n",
              "  </tbody>\n",
              "</table>\n",
              "</div>"
            ],
            "text/plain": [
              "   cid   name     type  notnull dflt_value  pk\n",
              "0    0  index  INTEGER        0       None   0\n",
              "1    1   Name     TEXT        0       None   0\n",
              "2    2   LAID  INTEGER        0       None   0"
            ]
          },
          "metadata": {
            "tags": []
          },
          "output_type": "display_data"
        },
        {
          "name": "stdout",
          "output_type": "stream",
          "text": [
            "----------------------------------------------------------------------------------------------------\n",
            "\n",
            "\n",
            "Schema of Country\n"
          ]
        },
        {
          "data": {
            "text/html": [
              "<div>\n",
              "<style scoped>\n",
              "    .dataframe tbody tr th:only-of-type {\n",
              "        vertical-align: middle;\n",
              "    }\n",
              "\n",
              "    .dataframe tbody tr th {\n",
              "        vertical-align: top;\n",
              "    }\n",
              "\n",
              "    .dataframe thead th {\n",
              "        text-align: right;\n",
              "    }\n",
              "</style>\n",
              "<table border=\"1\" class=\"dataframe\">\n",
              "  <thead>\n",
              "    <tr style=\"text-align: right;\">\n",
              "      <th></th>\n",
              "      <th>cid</th>\n",
              "      <th>name</th>\n",
              "      <th>type</th>\n",
              "      <th>notnull</th>\n",
              "      <th>dflt_value</th>\n",
              "      <th>pk</th>\n",
              "    </tr>\n",
              "  </thead>\n",
              "  <tbody>\n",
              "    <tr>\n",
              "      <th>0</th>\n",
              "      <td>0</td>\n",
              "      <td>index</td>\n",
              "      <td>INTEGER</td>\n",
              "      <td>0</td>\n",
              "      <td>None</td>\n",
              "      <td>0</td>\n",
              "    </tr>\n",
              "    <tr>\n",
              "      <th>1</th>\n",
              "      <td>1</td>\n",
              "      <td>Name</td>\n",
              "      <td>TEXT</td>\n",
              "      <td>0</td>\n",
              "      <td>None</td>\n",
              "      <td>0</td>\n",
              "    </tr>\n",
              "    <tr>\n",
              "      <th>2</th>\n",
              "      <td>2</td>\n",
              "      <td>CID</td>\n",
              "      <td>INTEGER</td>\n",
              "      <td>0</td>\n",
              "      <td>None</td>\n",
              "      <td>0</td>\n",
              "    </tr>\n",
              "  </tbody>\n",
              "</table>\n",
              "</div>"
            ],
            "text/plain": [
              "   cid   name     type  notnull dflt_value  pk\n",
              "0    0  index  INTEGER        0       None   0\n",
              "1    1   Name     TEXT        0       None   0\n",
              "2    2    CID  INTEGER        0       None   0"
            ]
          },
          "metadata": {
            "tags": []
          },
          "output_type": "display_data"
        },
        {
          "name": "stdout",
          "output_type": "stream",
          "text": [
            "----------------------------------------------------------------------------------------------------\n",
            "\n",
            "\n",
            "Schema of Location\n"
          ]
        },
        {
          "data": {
            "text/html": [
              "<div>\n",
              "<style scoped>\n",
              "    .dataframe tbody tr th:only-of-type {\n",
              "        vertical-align: middle;\n",
              "    }\n",
              "\n",
              "    .dataframe tbody tr th {\n",
              "        vertical-align: top;\n",
              "    }\n",
              "\n",
              "    .dataframe thead th {\n",
              "        text-align: right;\n",
              "    }\n",
              "</style>\n",
              "<table border=\"1\" class=\"dataframe\">\n",
              "  <thead>\n",
              "    <tr style=\"text-align: right;\">\n",
              "      <th></th>\n",
              "      <th>cid</th>\n",
              "      <th>name</th>\n",
              "      <th>type</th>\n",
              "      <th>notnull</th>\n",
              "      <th>dflt_value</th>\n",
              "      <th>pk</th>\n",
              "    </tr>\n",
              "  </thead>\n",
              "  <tbody>\n",
              "    <tr>\n",
              "      <th>0</th>\n",
              "      <td>0</td>\n",
              "      <td>index</td>\n",
              "      <td>INTEGER</td>\n",
              "      <td>0</td>\n",
              "      <td>None</td>\n",
              "      <td>0</td>\n",
              "    </tr>\n",
              "    <tr>\n",
              "      <th>1</th>\n",
              "      <td>1</td>\n",
              "      <td>Name</td>\n",
              "      <td>TEXT</td>\n",
              "      <td>0</td>\n",
              "      <td>None</td>\n",
              "      <td>0</td>\n",
              "    </tr>\n",
              "    <tr>\n",
              "      <th>2</th>\n",
              "      <td>2</td>\n",
              "      <td>LID</td>\n",
              "      <td>INTEGER</td>\n",
              "      <td>0</td>\n",
              "      <td>None</td>\n",
              "      <td>0</td>\n",
              "    </tr>\n",
              "  </tbody>\n",
              "</table>\n",
              "</div>"
            ],
            "text/plain": [
              "   cid   name     type  notnull dflt_value  pk\n",
              "0    0  index  INTEGER        0       None   0\n",
              "1    1   Name     TEXT        0       None   0\n",
              "2    2    LID  INTEGER        0       None   0"
            ]
          },
          "metadata": {
            "tags": []
          },
          "output_type": "display_data"
        },
        {
          "name": "stdout",
          "output_type": "stream",
          "text": [
            "----------------------------------------------------------------------------------------------------\n",
            "\n",
            "\n",
            "Schema of M_Location\n"
          ]
        },
        {
          "data": {
            "text/html": [
              "<div>\n",
              "<style scoped>\n",
              "    .dataframe tbody tr th:only-of-type {\n",
              "        vertical-align: middle;\n",
              "    }\n",
              "\n",
              "    .dataframe tbody tr th {\n",
              "        vertical-align: top;\n",
              "    }\n",
              "\n",
              "    .dataframe thead th {\n",
              "        text-align: right;\n",
              "    }\n",
              "</style>\n",
              "<table border=\"1\" class=\"dataframe\">\n",
              "  <thead>\n",
              "    <tr style=\"text-align: right;\">\n",
              "      <th></th>\n",
              "      <th>cid</th>\n",
              "      <th>name</th>\n",
              "      <th>type</th>\n",
              "      <th>notnull</th>\n",
              "      <th>dflt_value</th>\n",
              "      <th>pk</th>\n",
              "    </tr>\n",
              "  </thead>\n",
              "  <tbody>\n",
              "    <tr>\n",
              "      <th>0</th>\n",
              "      <td>0</td>\n",
              "      <td>index</td>\n",
              "      <td>INTEGER</td>\n",
              "      <td>0</td>\n",
              "      <td>None</td>\n",
              "      <td>0</td>\n",
              "    </tr>\n",
              "    <tr>\n",
              "      <th>1</th>\n",
              "      <td>1</td>\n",
              "      <td>MID</td>\n",
              "      <td>TEXT</td>\n",
              "      <td>0</td>\n",
              "      <td>None</td>\n",
              "      <td>0</td>\n",
              "    </tr>\n",
              "    <tr>\n",
              "      <th>2</th>\n",
              "      <td>2</td>\n",
              "      <td>LID</td>\n",
              "      <td>REAL</td>\n",
              "      <td>0</td>\n",
              "      <td>None</td>\n",
              "      <td>0</td>\n",
              "    </tr>\n",
              "    <tr>\n",
              "      <th>3</th>\n",
              "      <td>3</td>\n",
              "      <td>ID</td>\n",
              "      <td>INTEGER</td>\n",
              "      <td>0</td>\n",
              "      <td>None</td>\n",
              "      <td>0</td>\n",
              "    </tr>\n",
              "  </tbody>\n",
              "</table>\n",
              "</div>"
            ],
            "text/plain": [
              "   cid   name     type  notnull dflt_value  pk\n",
              "0    0  index  INTEGER        0       None   0\n",
              "1    1    MID     TEXT        0       None   0\n",
              "2    2    LID     REAL        0       None   0\n",
              "3    3     ID  INTEGER        0       None   0"
            ]
          },
          "metadata": {
            "tags": []
          },
          "output_type": "display_data"
        },
        {
          "name": "stdout",
          "output_type": "stream",
          "text": [
            "----------------------------------------------------------------------------------------------------\n",
            "\n",
            "\n",
            "Schema of M_Country\n"
          ]
        },
        {
          "data": {
            "text/html": [
              "<div>\n",
              "<style scoped>\n",
              "    .dataframe tbody tr th:only-of-type {\n",
              "        vertical-align: middle;\n",
              "    }\n",
              "\n",
              "    .dataframe tbody tr th {\n",
              "        vertical-align: top;\n",
              "    }\n",
              "\n",
              "    .dataframe thead th {\n",
              "        text-align: right;\n",
              "    }\n",
              "</style>\n",
              "<table border=\"1\" class=\"dataframe\">\n",
              "  <thead>\n",
              "    <tr style=\"text-align: right;\">\n",
              "      <th></th>\n",
              "      <th>cid</th>\n",
              "      <th>name</th>\n",
              "      <th>type</th>\n",
              "      <th>notnull</th>\n",
              "      <th>dflt_value</th>\n",
              "      <th>pk</th>\n",
              "    </tr>\n",
              "  </thead>\n",
              "  <tbody>\n",
              "    <tr>\n",
              "      <th>0</th>\n",
              "      <td>0</td>\n",
              "      <td>index</td>\n",
              "      <td>INTEGER</td>\n",
              "      <td>0</td>\n",
              "      <td>None</td>\n",
              "      <td>0</td>\n",
              "    </tr>\n",
              "    <tr>\n",
              "      <th>1</th>\n",
              "      <td>1</td>\n",
              "      <td>MID</td>\n",
              "      <td>TEXT</td>\n",
              "      <td>0</td>\n",
              "      <td>None</td>\n",
              "      <td>0</td>\n",
              "    </tr>\n",
              "    <tr>\n",
              "      <th>2</th>\n",
              "      <td>2</td>\n",
              "      <td>CID</td>\n",
              "      <td>REAL</td>\n",
              "      <td>0</td>\n",
              "      <td>None</td>\n",
              "      <td>0</td>\n",
              "    </tr>\n",
              "    <tr>\n",
              "      <th>3</th>\n",
              "      <td>3</td>\n",
              "      <td>ID</td>\n",
              "      <td>INTEGER</td>\n",
              "      <td>0</td>\n",
              "      <td>None</td>\n",
              "      <td>0</td>\n",
              "    </tr>\n",
              "  </tbody>\n",
              "</table>\n",
              "</div>"
            ],
            "text/plain": [
              "   cid   name     type  notnull dflt_value  pk\n",
              "0    0  index  INTEGER        0       None   0\n",
              "1    1    MID     TEXT        0       None   0\n",
              "2    2    CID     REAL        0       None   0\n",
              "3    3     ID  INTEGER        0       None   0"
            ]
          },
          "metadata": {
            "tags": []
          },
          "output_type": "display_data"
        },
        {
          "name": "stdout",
          "output_type": "stream",
          "text": [
            "----------------------------------------------------------------------------------------------------\n",
            "\n",
            "\n",
            "Schema of M_Language\n"
          ]
        },
        {
          "data": {
            "text/html": [
              "<div>\n",
              "<style scoped>\n",
              "    .dataframe tbody tr th:only-of-type {\n",
              "        vertical-align: middle;\n",
              "    }\n",
              "\n",
              "    .dataframe tbody tr th {\n",
              "        vertical-align: top;\n",
              "    }\n",
              "\n",
              "    .dataframe thead th {\n",
              "        text-align: right;\n",
              "    }\n",
              "</style>\n",
              "<table border=\"1\" class=\"dataframe\">\n",
              "  <thead>\n",
              "    <tr style=\"text-align: right;\">\n",
              "      <th></th>\n",
              "      <th>cid</th>\n",
              "      <th>name</th>\n",
              "      <th>type</th>\n",
              "      <th>notnull</th>\n",
              "      <th>dflt_value</th>\n",
              "      <th>pk</th>\n",
              "    </tr>\n",
              "  </thead>\n",
              "  <tbody>\n",
              "    <tr>\n",
              "      <th>0</th>\n",
              "      <td>0</td>\n",
              "      <td>index</td>\n",
              "      <td>INTEGER</td>\n",
              "      <td>0</td>\n",
              "      <td>None</td>\n",
              "      <td>0</td>\n",
              "    </tr>\n",
              "    <tr>\n",
              "      <th>1</th>\n",
              "      <td>1</td>\n",
              "      <td>MID</td>\n",
              "      <td>TEXT</td>\n",
              "      <td>0</td>\n",
              "      <td>None</td>\n",
              "      <td>0</td>\n",
              "    </tr>\n",
              "    <tr>\n",
              "      <th>2</th>\n",
              "      <td>2</td>\n",
              "      <td>LAID</td>\n",
              "      <td>INTEGER</td>\n",
              "      <td>0</td>\n",
              "      <td>None</td>\n",
              "      <td>0</td>\n",
              "    </tr>\n",
              "    <tr>\n",
              "      <th>3</th>\n",
              "      <td>3</td>\n",
              "      <td>ID</td>\n",
              "      <td>INTEGER</td>\n",
              "      <td>0</td>\n",
              "      <td>None</td>\n",
              "      <td>0</td>\n",
              "    </tr>\n",
              "  </tbody>\n",
              "</table>\n",
              "</div>"
            ],
            "text/plain": [
              "   cid   name     type  notnull dflt_value  pk\n",
              "0    0  index  INTEGER        0       None   0\n",
              "1    1    MID     TEXT        0       None   0\n",
              "2    2   LAID  INTEGER        0       None   0\n",
              "3    3     ID  INTEGER        0       None   0"
            ]
          },
          "metadata": {
            "tags": []
          },
          "output_type": "display_data"
        },
        {
          "name": "stdout",
          "output_type": "stream",
          "text": [
            "----------------------------------------------------------------------------------------------------\n",
            "\n",
            "\n",
            "Schema of M_Genre\n"
          ]
        },
        {
          "data": {
            "text/html": [
              "<div>\n",
              "<style scoped>\n",
              "    .dataframe tbody tr th:only-of-type {\n",
              "        vertical-align: middle;\n",
              "    }\n",
              "\n",
              "    .dataframe tbody tr th {\n",
              "        vertical-align: top;\n",
              "    }\n",
              "\n",
              "    .dataframe thead th {\n",
              "        text-align: right;\n",
              "    }\n",
              "</style>\n",
              "<table border=\"1\" class=\"dataframe\">\n",
              "  <thead>\n",
              "    <tr style=\"text-align: right;\">\n",
              "      <th></th>\n",
              "      <th>cid</th>\n",
              "      <th>name</th>\n",
              "      <th>type</th>\n",
              "      <th>notnull</th>\n",
              "      <th>dflt_value</th>\n",
              "      <th>pk</th>\n",
              "    </tr>\n",
              "  </thead>\n",
              "  <tbody>\n",
              "    <tr>\n",
              "      <th>0</th>\n",
              "      <td>0</td>\n",
              "      <td>index</td>\n",
              "      <td>INTEGER</td>\n",
              "      <td>0</td>\n",
              "      <td>None</td>\n",
              "      <td>0</td>\n",
              "    </tr>\n",
              "    <tr>\n",
              "      <th>1</th>\n",
              "      <td>1</td>\n",
              "      <td>MID</td>\n",
              "      <td>TEXT</td>\n",
              "      <td>0</td>\n",
              "      <td>None</td>\n",
              "      <td>0</td>\n",
              "    </tr>\n",
              "    <tr>\n",
              "      <th>2</th>\n",
              "      <td>2</td>\n",
              "      <td>GID</td>\n",
              "      <td>INTEGER</td>\n",
              "      <td>0</td>\n",
              "      <td>None</td>\n",
              "      <td>0</td>\n",
              "    </tr>\n",
              "    <tr>\n",
              "      <th>3</th>\n",
              "      <td>3</td>\n",
              "      <td>ID</td>\n",
              "      <td>INTEGER</td>\n",
              "      <td>0</td>\n",
              "      <td>None</td>\n",
              "      <td>0</td>\n",
              "    </tr>\n",
              "  </tbody>\n",
              "</table>\n",
              "</div>"
            ],
            "text/plain": [
              "   cid   name     type  notnull dflt_value  pk\n",
              "0    0  index  INTEGER        0       None   0\n",
              "1    1    MID     TEXT        0       None   0\n",
              "2    2    GID  INTEGER        0       None   0\n",
              "3    3     ID  INTEGER        0       None   0"
            ]
          },
          "metadata": {
            "tags": []
          },
          "output_type": "display_data"
        },
        {
          "name": "stdout",
          "output_type": "stream",
          "text": [
            "----------------------------------------------------------------------------------------------------\n",
            "\n",
            "\n",
            "Schema of Person\n"
          ]
        },
        {
          "data": {
            "text/html": [
              "<div>\n",
              "<style scoped>\n",
              "    .dataframe tbody tr th:only-of-type {\n",
              "        vertical-align: middle;\n",
              "    }\n",
              "\n",
              "    .dataframe tbody tr th {\n",
              "        vertical-align: top;\n",
              "    }\n",
              "\n",
              "    .dataframe thead th {\n",
              "        text-align: right;\n",
              "    }\n",
              "</style>\n",
              "<table border=\"1\" class=\"dataframe\">\n",
              "  <thead>\n",
              "    <tr style=\"text-align: right;\">\n",
              "      <th></th>\n",
              "      <th>cid</th>\n",
              "      <th>name</th>\n",
              "      <th>type</th>\n",
              "      <th>notnull</th>\n",
              "      <th>dflt_value</th>\n",
              "      <th>pk</th>\n",
              "    </tr>\n",
              "  </thead>\n",
              "  <tbody>\n",
              "    <tr>\n",
              "      <th>0</th>\n",
              "      <td>0</td>\n",
              "      <td>index</td>\n",
              "      <td>INTEGER</td>\n",
              "      <td>0</td>\n",
              "      <td>None</td>\n",
              "      <td>0</td>\n",
              "    </tr>\n",
              "    <tr>\n",
              "      <th>1</th>\n",
              "      <td>1</td>\n",
              "      <td>PID</td>\n",
              "      <td>TEXT</td>\n",
              "      <td>0</td>\n",
              "      <td>None</td>\n",
              "      <td>0</td>\n",
              "    </tr>\n",
              "    <tr>\n",
              "      <th>2</th>\n",
              "      <td>2</td>\n",
              "      <td>Name</td>\n",
              "      <td>TEXT</td>\n",
              "      <td>0</td>\n",
              "      <td>None</td>\n",
              "      <td>0</td>\n",
              "    </tr>\n",
              "    <tr>\n",
              "      <th>3</th>\n",
              "      <td>3</td>\n",
              "      <td>Gender</td>\n",
              "      <td>TEXT</td>\n",
              "      <td>0</td>\n",
              "      <td>None</td>\n",
              "      <td>0</td>\n",
              "    </tr>\n",
              "  </tbody>\n",
              "</table>\n",
              "</div>"
            ],
            "text/plain": [
              "   cid    name     type  notnull dflt_value  pk\n",
              "0    0   index  INTEGER        0       None   0\n",
              "1    1     PID     TEXT        0       None   0\n",
              "2    2    Name     TEXT        0       None   0\n",
              "3    3  Gender     TEXT        0       None   0"
            ]
          },
          "metadata": {
            "tags": []
          },
          "output_type": "display_data"
        },
        {
          "name": "stdout",
          "output_type": "stream",
          "text": [
            "----------------------------------------------------------------------------------------------------\n",
            "\n",
            "\n",
            "Schema of M_Producer\n"
          ]
        },
        {
          "data": {
            "text/html": [
              "<div>\n",
              "<style scoped>\n",
              "    .dataframe tbody tr th:only-of-type {\n",
              "        vertical-align: middle;\n",
              "    }\n",
              "\n",
              "    .dataframe tbody tr th {\n",
              "        vertical-align: top;\n",
              "    }\n",
              "\n",
              "    .dataframe thead th {\n",
              "        text-align: right;\n",
              "    }\n",
              "</style>\n",
              "<table border=\"1\" class=\"dataframe\">\n",
              "  <thead>\n",
              "    <tr style=\"text-align: right;\">\n",
              "      <th></th>\n",
              "      <th>cid</th>\n",
              "      <th>name</th>\n",
              "      <th>type</th>\n",
              "      <th>notnull</th>\n",
              "      <th>dflt_value</th>\n",
              "      <th>pk</th>\n",
              "    </tr>\n",
              "  </thead>\n",
              "  <tbody>\n",
              "    <tr>\n",
              "      <th>0</th>\n",
              "      <td>0</td>\n",
              "      <td>index</td>\n",
              "      <td>INTEGER</td>\n",
              "      <td>0</td>\n",
              "      <td>None</td>\n",
              "      <td>0</td>\n",
              "    </tr>\n",
              "    <tr>\n",
              "      <th>1</th>\n",
              "      <td>1</td>\n",
              "      <td>MID</td>\n",
              "      <td>TEXT</td>\n",
              "      <td>0</td>\n",
              "      <td>None</td>\n",
              "      <td>0</td>\n",
              "    </tr>\n",
              "    <tr>\n",
              "      <th>2</th>\n",
              "      <td>2</td>\n",
              "      <td>PID</td>\n",
              "      <td>TEXT</td>\n",
              "      <td>0</td>\n",
              "      <td>None</td>\n",
              "      <td>0</td>\n",
              "    </tr>\n",
              "    <tr>\n",
              "      <th>3</th>\n",
              "      <td>3</td>\n",
              "      <td>ID</td>\n",
              "      <td>INTEGER</td>\n",
              "      <td>0</td>\n",
              "      <td>None</td>\n",
              "      <td>0</td>\n",
              "    </tr>\n",
              "  </tbody>\n",
              "</table>\n",
              "</div>"
            ],
            "text/plain": [
              "   cid   name     type  notnull dflt_value  pk\n",
              "0    0  index  INTEGER        0       None   0\n",
              "1    1    MID     TEXT        0       None   0\n",
              "2    2    PID     TEXT        0       None   0\n",
              "3    3     ID  INTEGER        0       None   0"
            ]
          },
          "metadata": {
            "tags": []
          },
          "output_type": "display_data"
        },
        {
          "name": "stdout",
          "output_type": "stream",
          "text": [
            "----------------------------------------------------------------------------------------------------\n",
            "\n",
            "\n",
            "Schema of M_Director\n"
          ]
        },
        {
          "data": {
            "text/html": [
              "<div>\n",
              "<style scoped>\n",
              "    .dataframe tbody tr th:only-of-type {\n",
              "        vertical-align: middle;\n",
              "    }\n",
              "\n",
              "    .dataframe tbody tr th {\n",
              "        vertical-align: top;\n",
              "    }\n",
              "\n",
              "    .dataframe thead th {\n",
              "        text-align: right;\n",
              "    }\n",
              "</style>\n",
              "<table border=\"1\" class=\"dataframe\">\n",
              "  <thead>\n",
              "    <tr style=\"text-align: right;\">\n",
              "      <th></th>\n",
              "      <th>cid</th>\n",
              "      <th>name</th>\n",
              "      <th>type</th>\n",
              "      <th>notnull</th>\n",
              "      <th>dflt_value</th>\n",
              "      <th>pk</th>\n",
              "    </tr>\n",
              "  </thead>\n",
              "  <tbody>\n",
              "    <tr>\n",
              "      <th>0</th>\n",
              "      <td>0</td>\n",
              "      <td>index</td>\n",
              "      <td>INTEGER</td>\n",
              "      <td>0</td>\n",
              "      <td>None</td>\n",
              "      <td>0</td>\n",
              "    </tr>\n",
              "    <tr>\n",
              "      <th>1</th>\n",
              "      <td>1</td>\n",
              "      <td>MID</td>\n",
              "      <td>TEXT</td>\n",
              "      <td>0</td>\n",
              "      <td>None</td>\n",
              "      <td>0</td>\n",
              "    </tr>\n",
              "    <tr>\n",
              "      <th>2</th>\n",
              "      <td>2</td>\n",
              "      <td>PID</td>\n",
              "      <td>TEXT</td>\n",
              "      <td>0</td>\n",
              "      <td>None</td>\n",
              "      <td>0</td>\n",
              "    </tr>\n",
              "    <tr>\n",
              "      <th>3</th>\n",
              "      <td>3</td>\n",
              "      <td>ID</td>\n",
              "      <td>INTEGER</td>\n",
              "      <td>0</td>\n",
              "      <td>None</td>\n",
              "      <td>0</td>\n",
              "    </tr>\n",
              "  </tbody>\n",
              "</table>\n",
              "</div>"
            ],
            "text/plain": [
              "   cid   name     type  notnull dflt_value  pk\n",
              "0    0  index  INTEGER        0       None   0\n",
              "1    1    MID     TEXT        0       None   0\n",
              "2    2    PID     TEXT        0       None   0\n",
              "3    3     ID  INTEGER        0       None   0"
            ]
          },
          "metadata": {
            "tags": []
          },
          "output_type": "display_data"
        },
        {
          "name": "stdout",
          "output_type": "stream",
          "text": [
            "----------------------------------------------------------------------------------------------------\n",
            "\n",
            "\n",
            "Schema of M_Cast\n"
          ]
        },
        {
          "data": {
            "text/html": [
              "<div>\n",
              "<style scoped>\n",
              "    .dataframe tbody tr th:only-of-type {\n",
              "        vertical-align: middle;\n",
              "    }\n",
              "\n",
              "    .dataframe tbody tr th {\n",
              "        vertical-align: top;\n",
              "    }\n",
              "\n",
              "    .dataframe thead th {\n",
              "        text-align: right;\n",
              "    }\n",
              "</style>\n",
              "<table border=\"1\" class=\"dataframe\">\n",
              "  <thead>\n",
              "    <tr style=\"text-align: right;\">\n",
              "      <th></th>\n",
              "      <th>cid</th>\n",
              "      <th>name</th>\n",
              "      <th>type</th>\n",
              "      <th>notnull</th>\n",
              "      <th>dflt_value</th>\n",
              "      <th>pk</th>\n",
              "    </tr>\n",
              "  </thead>\n",
              "  <tbody>\n",
              "    <tr>\n",
              "      <th>0</th>\n",
              "      <td>0</td>\n",
              "      <td>index</td>\n",
              "      <td>INTEGER</td>\n",
              "      <td>0</td>\n",
              "      <td>None</td>\n",
              "      <td>0</td>\n",
              "    </tr>\n",
              "    <tr>\n",
              "      <th>1</th>\n",
              "      <td>1</td>\n",
              "      <td>MID</td>\n",
              "      <td>TEXT</td>\n",
              "      <td>0</td>\n",
              "      <td>None</td>\n",
              "      <td>0</td>\n",
              "    </tr>\n",
              "    <tr>\n",
              "      <th>2</th>\n",
              "      <td>2</td>\n",
              "      <td>PID</td>\n",
              "      <td>TEXT</td>\n",
              "      <td>0</td>\n",
              "      <td>None</td>\n",
              "      <td>0</td>\n",
              "    </tr>\n",
              "    <tr>\n",
              "      <th>3</th>\n",
              "      <td>3</td>\n",
              "      <td>ID</td>\n",
              "      <td>INTEGER</td>\n",
              "      <td>0</td>\n",
              "      <td>None</td>\n",
              "      <td>0</td>\n",
              "    </tr>\n",
              "  </tbody>\n",
              "</table>\n",
              "</div>"
            ],
            "text/plain": [
              "   cid   name     type  notnull dflt_value  pk\n",
              "0    0  index  INTEGER        0       None   0\n",
              "1    1    MID     TEXT        0       None   0\n",
              "2    2    PID     TEXT        0       None   0\n",
              "3    3     ID  INTEGER        0       None   0"
            ]
          },
          "metadata": {
            "tags": []
          },
          "output_type": "display_data"
        },
        {
          "name": "stdout",
          "output_type": "stream",
          "text": [
            "----------------------------------------------------------------------------------------------------\n",
            "\n",
            "\n"
          ]
        }
      ],
      "source": [
        "for table in tables:\n",
        "    query = \"PRAGMA TABLE_INFO({})\".format(table)\n",
        "    schema = pd.read_sql_query(query,conn)\n",
        "    print(\"Schema of\",table)\n",
        "    display(schema)\n",
        "    print(\"-\"*100)\n",
        "    print(\"\\n\")"
      ]
    },
    {
      "attachments": {},
      "cell_type": "markdown",
      "metadata": {
        "id": "jL9AmM3oE_IZ"
      },
      "source": [
        "## List all the directors who directed a 'Comedy' movie in a leap year. (You need to check that the genre is 'Comedy’ and year is a leap year) Your query should return director name, the movie name, and the year."
      ]
    },
    {
      "cell_type": "markdown",
      "metadata": {
        "id": "1jglmxDuE_Ib"
      },
      "source": [
        "<h4>To determine whether a year is a leap year, follow these steps:</h4>\n",
        "\n",
        "<ul>\n",
        "    <li><b>STEP-1:</b> If the year is evenly divisible by 4, go to step 2. Otherwise, go to step 5.</li>\n",
        "    <li><b>STEP-2:</b> If the year is evenly divisible by 100, go to step 3. Otherwise, go to step 4.</li>\n",
        "    <li><b>STEP-3:</b> If the year is evenly divisible by 400, go to step 4. Otherwise, go to step 5.</li>\n",
        "    <li><b>STEP-4:</b> The year is a leap year (it has 366 days).</li>\n",
        "    <li><b>STEP-5:</b> The year is not a leap year (it has 365 days).</li>\n",
        "</ul>\n",
        "\n",
        "Year 1900 is divisible by 4 and 100 but it is not divisible by 400, so it is not a leap year."
      ]
    },
    {
      "cell_type": "code",
      "execution_count": null,
      "metadata": {
        "colab": {
          "base_uri": "https://localhost:8080/"
        },
        "id": "yBo_pMrH23tD",
        "outputId": "e33f58d9-e1d5-4889-ef0a-f7f085430e96"
      },
      "outputs": [
        {
          "name": "stdout",
          "output_type": "stream",
          "text": [
            "             title    yr             Name\n",
            "0       Jagte Raho  1956       Amit Mitra\n",
            "1         Funtoosh  1956     Chetan Anand\n",
            "2          Jagriti  1956      Satyen Bose\n",
            "3        New Delhi  1956      Mohan Segal\n",
            "4         Kohinoor  1960       S.U. Sunny\n",
            "5           Parakh  1960        Bimal Roy\n",
            "6    Love in Simla  1960      R.K. Nayyar\n",
            "7         Rajkumar  1964       K. Shankar\n",
            "8  Kashmir Ki Kali  1964   Shakti Samanta\n",
            "9           Leader  1964    Ram Mukherjee\n",
            "CPU times: user 67 ms, sys: 900 µs, total: 67.9 ms\n",
            "Wall time: 71.6 ms\n"
          ]
        }
      ],
      "source": [
        "%%time\n",
        "def grader_1(q1):\n",
        "    q1_results  = pd.read_sql_query(q1,conn)\n",
        "    print(q1_results.head(10))\n",
        "    assert (q1_results.shape == (232,3))\n",
        "\n",
        "query1 = \"\"\" SELECT m.title,CAST(SUBSTR(TRIM(m.year),-4) AS INTEGER) AS yr,pn.Name \n",
        "              FROM Movie AS m \n",
        "              JOIN M_director AS d ON m.MID=d.MID \n",
        "              JOIN Person AS pn ON d.PID=pn.PID \n",
        "              JOIN M_Genre AS mg ON m.MID=mg.MID \n",
        "              JOIN Genre AS g ON mg.GID=g.GID \n",
        "              WHERE g.Name LIKE'%Comedy%'\n",
        "                AND (yr%4=0 \n",
        "                AND yr%100!=0 \n",
        "                OR yr%400=0 )\n",
        "              ORDER BY m.year\"\"\"\n",
        "grader_1(query1)"
      ]
    },
    {
      "attachments": {},
      "cell_type": "markdown",
      "metadata": {
        "id": "LHFSrIJlE_Ih"
      },
      "source": [
        "## List the names of all the actors who played in the movie 'Anand' (1971)"
      ]
    },
    {
      "cell_type": "code",
      "execution_count": null,
      "metadata": {
        "colab": {
          "base_uri": "https://localhost:8080/"
        },
        "id": "5BSQOVlk23tS",
        "outputId": "4a4dc298-b465-413e-c2f5-ef168b731a81"
      },
      "outputs": [
        {
          "name": "stdout",
          "output_type": "stream",
          "text": [
            "                 Name\n",
            "0    Amitabh Bachchan\n",
            "1       Rajesh Khanna\n",
            "2       Sumita Sanyal\n",
            "3          Ramesh Deo\n",
            "4           Seema Deo\n",
            "5      Asit Kumar Sen\n",
            "6          Dev Kishan\n",
            "7        Atam Prakash\n",
            "8       Lalita Kumari\n",
            "9              Savita\n",
            "10     Brahm Bhardwaj\n",
            "11       Gurnam Singh\n",
            "12       Lalita Pawar\n",
            "13        Durga Khote\n",
            "14         Dara Singh\n",
            "15      Johnny Walker\n",
            "16          Moolchand\n",
            "CPU times: user 268 ms, sys: 15.4 ms, total: 283 ms\n",
            "Wall time: 287 ms\n"
          ]
        }
      ],
      "source": [
        "%%time\n",
        "def grader_2(q2):\n",
        "    q2_results  = pd.read_sql_query(q2,conn)\n",
        "    print(q2_results)\n",
        "    assert (q2_results.shape == (17,1))\n",
        "\n",
        "\n",
        "query2 = \"\"\"SELECT pn.Name \n",
        "            FROM Person AS pn \n",
        "            JOIN M_Cast AS mc ON TRIM(pn.PID) = TRIM(mc.PID) \n",
        "            JOIN Movie AS m ON mc.MID=m.MID \n",
        "              WHERE m.title LIKE 'Anand'\"\"\"\n",
        "grader_2(query2)"
      ]
    },
    {
      "attachments": {},
      "cell_type": "markdown",
      "metadata": {
        "id": "bJ-mAUMmE_Il"
      },
      "source": [
        "## List all the actors who acted in a film before 1970 and in a film after 1990. (That is: < 1970 and > 1990.)"
      ]
    },
    {
      "cell_type": "code",
      "execution_count": null,
      "metadata": {
        "colab": {
          "base_uri": "https://localhost:8080/"
        },
        "id": "HARXLaJ623tY",
        "outputId": "c7216d94-a9a2-4246-bed4-5588d41f7940"
      },
      "outputs": [
        {
          "name": "stdout",
          "output_type": "stream",
          "text": [
            "(4942, 1)\n",
            "            PID\n",
            "0     nm0719692\n",
            "1     nm0623658\n",
            "2     nm0549280\n",
            "3     nm0415488\n",
            "4     nm0336474\n",
            "...         ...\n",
            "4937  nm0004660\n",
            "4938  nm0672784\n",
            "4939  nm0482285\n",
            "4940  nm0004334\n",
            "4941  nm0066829\n",
            "\n",
            "[4942 rows x 1 columns]\n",
            "(62570, 1)\n",
            "             PID\n",
            "0      nm0000288\n",
            "1      nm0000949\n",
            "2      nm1212722\n",
            "3      nm0365140\n",
            "4      nm0785227\n",
            "...          ...\n",
            "62565  nm0664109\n",
            "62566  nm0505323\n",
            "62567  nm0019427\n",
            "62568  nm0197582\n",
            "62569  nm0438467\n",
            "\n",
            "[62570 rows x 1 columns]\n",
            "True\n",
            "CPU times: user 270 ms, sys: 11.7 ms, total: 281 ms\n",
            "Wall time: 295 ms\n"
          ]
        }
      ],
      "source": [
        "%%time\n",
        "\n",
        "def grader_3a(query_less_1970, query_more_1990):\n",
        "    q3_a = pd.read_sql_query(query_less_1970,conn)\n",
        "    print(q3_a.shape)\n",
        "    print(q3_a)\n",
        "    q3_b = pd.read_sql_query(query_more_1990,conn)\n",
        "    print(q3_b.shape)\n",
        "    print(q3_b)\n",
        "    return (q3_a.shape == (4942,1)) and (q3_b.shape == (62570,1))\n",
        "\n",
        "query_less_1970 =\"\"\" \n",
        "Select p.PID from Person p \n",
        "inner join \n",
        "(\n",
        "    select trim(mc.PID) PD, mc.MID from M_cast mc \n",
        "where mc.MID \n",
        "in \n",
        "(\n",
        "    select mv.MID from Movie mv where CAST(SUBSTR(mv.year,-4) AS Integer)<1970\n",
        ")\n",
        ") r1 \n",
        "on r1.PD=p.PID \n",
        "\"\"\"\n",
        "query_more_1990 =\"\"\" \n",
        "Select p.PID from Person p \n",
        "inner join \n",
        "(\n",
        "    select trim(mc.PID) PD, mc.MID from M_cast mc \n",
        "where mc.MID \n",
        "in \n",
        "(\n",
        "    select mv.MID from Movie mv where CAST(SUBSTR(mv.year,-4) AS Integer)>1990\n",
        ")\n",
        ") r1 \n",
        "on r1.PD=p.PID \"\"\"\n",
        "print(grader_3a(query_less_1970, query_more_1990))\n",
        "\n",
        "# using the above two queries, you can find the answer to the given question "
      ]
    },
    {
      "cell_type": "code",
      "execution_count": null,
      "metadata": {
        "colab": {
          "base_uri": "https://localhost:8080/"
        },
        "id": "sbzv0UZZ23td",
        "outputId": "9795ea9a-5217-4a71-f802-cce3a162355c"
      },
      "outputs": [
        {
          "name": "stdout",
          "output_type": "stream",
          "text": [
            "                Name\n",
            "0       Rishi Kapoor\n",
            "1   Amitabh Bachchan\n",
            "2             Asrani\n",
            "3       Zohra Sehgal\n",
            "4    Parikshat Sahni\n",
            "5      Rakesh Sharma\n",
            "6        Sanjay Dutt\n",
            "7          Ric Young\n",
            "8              Yusuf\n",
            "9     Suhasini Mulay\n",
            "CPU times: user 7.02 s, sys: 378 ms, total: 7.4 s\n",
            "Wall time: 7.42 s\n"
          ]
        }
      ],
      "source": [
        "%%time\n",
        "def grader_3(q3):\n",
        "    q3_results  = pd.read_sql_query(q3,conn)\n",
        "    print(q3_results.head(10))\n",
        "    assert (q3_results.shape == (300,1))\n",
        "\n",
        "query3 = \"\"\"select distinct p.Name \n",
        "            from Movie m \n",
        "            join M_Cast mc on m.MID=mc.MID \n",
        "            join Person p on trim(mc.PID)=trim(p.PID)\n",
        "            where p.PID in \n",
        "            (Select p.PID from Person p \n",
        "            inner join \n",
        "            (\n",
        "                select trim(mc.PID) PD, mc.MID \n",
        "                from M_cast mc \n",
        "            where mc.MID \n",
        "            in \n",
        "            (\n",
        "                select mv.MID from Movie mv \n",
        "                where CAST(SUBSTR(mv.year,-4) AS Integer)<1970\n",
        "            )\n",
        "            ) r1 \n",
        "            on r1.PD=p.PID \n",
        "            )\n",
        "            AND p.PID IN\n",
        "            (Select p.PID from Person p \n",
        "            inner join \n",
        "            (\n",
        "                select trim(mc.PID) PD, mc.MID from M_cast mc \n",
        "            where mc.MID \n",
        "            in \n",
        "            (\n",
        "                select mv.MID from Movie mv \n",
        "                where CAST(SUBSTR(mv.year,-4) AS Integer)>1990\n",
        "            )\n",
        "            ) r1 \n",
        "            on r1.PD=p.PID \n",
        "            )\n",
        "\"\"\"\n",
        "grader_3(query3)"
      ]
    },
    {
      "attachments": {},
      "cell_type": "markdown",
      "metadata": {
        "id": "wd3tqFxaE_Ir"
      },
      "source": [
        "## List all directors who directed 10 movies or more, in descending order of the number of movies they directed. Return the directors' names and the number of movies each of them directed."
      ]
    },
    {
      "cell_type": "code",
      "execution_count": null,
      "metadata": {
        "colab": {
          "base_uri": "https://localhost:8080/"
        },
        "id": "aGgqAYk723th",
        "outputId": "7f500bed-9235-45b8-fd27-1cb45d458695"
      },
      "outputs": [
        {
          "name": "stdout",
          "output_type": "stream",
          "text": [
            "  Director_ID  Movie_Count\n",
            "0   nm0000180            1\n",
            "1   nm0000187            1\n",
            "2   nm0000229            1\n",
            "3   nm0000269            1\n",
            "4   nm0000386            1\n",
            "5   nm0000487            2\n",
            "6   nm0000965            1\n",
            "7   nm0001060            1\n",
            "8   nm0001162            1\n",
            "9   nm0001241            1\n",
            "True\n",
            "CPU times: user 59.3 ms, sys: 976 µs, total: 60.3 ms\n",
            "Wall time: 64.1 ms\n"
          ]
        }
      ],
      "source": [
        "%%time\n",
        "\n",
        "def grader_4a(query_4a):\n",
        "    query_4a = pd.read_sql_query(query_4a,conn)\n",
        "    print(query_4a.head(10)) \n",
        "    return (query_4a.shape == (1462,2))\n",
        "\n",
        "query_4a =\"\"\"SELECT p.PID Director_ID,COUNT(m.MID) Movie_Count \n",
        "             FROM Movie m \n",
        "             JOIN M_Director md ON m.MID=md.MID \n",
        "             JOIN Person p ON md.PID=p.PID \n",
        "             GROUP BY p.PID \"\"\"\n",
        "print(grader_4a(query_4a))\n",
        "\n",
        "# using the above query, you can write the answer to the given question"
      ]
    },
    {
      "cell_type": "code",
      "execution_count": null,
      "metadata": {
        "colab": {
          "base_uri": "https://localhost:8080/"
        },
        "id": "xROoSzcF23tn",
        "outputId": "c1effaeb-30bb-4d5b-ae65-1c048f9f8e6a"
      },
      "outputs": [
        {
          "name": "stdout",
          "output_type": "stream",
          "text": [
            "           Director_Name  Movie_Count\n",
            "0           David Dhawan           39\n",
            "1           Mahesh Bhatt           36\n",
            "2        Ram Gopal Varma           30\n",
            "3           Priyadarshan           30\n",
            "4           Vikram Bhatt           29\n",
            "5   Hrishikesh Mukherjee           27\n",
            "6            Yash Chopra           21\n",
            "7        Basu Chatterjee           19\n",
            "8         Shakti Samanta           19\n",
            "9           Subhash Ghai           18\n",
            "CPU times: user 66.4 ms, sys: 1.72 ms, total: 68.1 ms\n",
            "Wall time: 69.5 ms\n"
          ]
        }
      ],
      "source": [
        "%%time\n",
        "def grader_4(q4):\n",
        "    q4_results  = pd.read_sql_query(q4,conn)\n",
        "    print(q4_results.head(10))\n",
        "    assert (q4_results.shape == (58,2))\n",
        "\n",
        "query4 = \"\"\" SELECT p.Name Director_Name,COUNT(m.MID) Movie_Count \n",
        "              FROM Movie m \n",
        "              JOIN M_Director md ON m.MID=md.MID \n",
        "              JOIN Person p ON md.PID=p.PID GROUP BY Director_Name \n",
        "              HAVING Movie_Count>=10 \n",
        "              ORDER BY Movie_Count DESC\"\"\"\n",
        "grader_4(query4)"
      ]
    },
    {
      "attachments": {},
      "cell_type": "markdown",
      "metadata": {
        "id": "OnulNpiOE_Iw"
      },
      "source": [
        "## For each year, count the number of movies in that year that had only female actors."
      ]
    },
    {
      "cell_type": "code",
      "execution_count": null,
      "metadata": {
        "colab": {
          "base_uri": "https://localhost:8080/"
        },
        "id": "ES-gGiNG23tr",
        "outputId": "42d1b771-0efb-43fa-bf01-608e607cec38"
      },
      "outputs": [
        {
          "name": "stdout",
          "output_type": "stream",
          "text": [
            "            MID  Gender  count\n",
            "0     tt0021594    None      0\n",
            "1     tt0021594  Female      3\n",
            "2     tt0021594    Male      5\n",
            "3     tt0026274    None      0\n",
            "4     tt0026274  Female     11\n",
            "...         ...     ...    ...\n",
            "8841  tt8932884  Female      1\n",
            "8842  tt8932884    Male      2\n",
            "8843  tt9007142    None      0\n",
            "8844  tt9007142  Female      4\n",
            "8845  tt9007142    Male      5\n",
            "\n",
            "[8846 rows x 3 columns]\n",
            "         MID Gender  count\n",
            "0  tt0021594   Male      5\n",
            "1  tt0026274   Male      9\n",
            "2  tt0027256   Male      8\n",
            "3  tt0028217   Male      7\n",
            "4  tt0031580   Male     27\n",
            "5  tt0033616   Male     46\n",
            "6  tt0036077   Male     11\n",
            "7  tt0038491   Male      7\n",
            "8  tt0039654   Male      6\n",
            "9  tt0040067   Male     10\n",
            "True\n",
            "CPU times: user 316 ms, sys: 6.91 ms, total: 323 ms\n",
            "Wall time: 324 ms\n"
          ]
        }
      ],
      "source": [
        "%%time\n",
        "\n",
        "# note that you don't need TRIM for person table\n",
        "\n",
        "def grader_5aa(query_5aa):\n",
        "    query_5aa = pd.read_sql_query(query_5aa,conn)\n",
        "    print(query_5aa) \n",
        "    return (query_5aa.shape == (8846,3))\n",
        " \n",
        "query_5aa =\"\"\" \n",
        "                    SELECT TRIM(MC.MID) MID,P.Gender, COUNT(P.Gender) count\n",
        "                    FROM M_Cast MC,Person P\n",
        "                    WHERE  TRIM(MC.PID)= P.PID\n",
        "                    GROUP BY MID,P.Gender\n",
        "                \"\"\"\n",
        "\n",
        "grader_5aa(query_5aa)\n",
        "\n",
        "def grader_5ab(query_5ab):\n",
        "    query_5ab = pd.read_sql_query(query_5ab,conn)\n",
        "    print(query_5ab.head(10)) \n",
        "    return (query_5ab.shape == (3469, 3))\n",
        "\n",
        "query_5ab =\"\"\" SELECT TRIM(MC.MID) MID,P.Gender, COUNT(P.Gender) count\n",
        "                    FROM M_Cast MC,Person P\n",
        "                    WHERE  TRIM(MC.PID)= P.PID \n",
        "                    GROUP BY MID,P.Gender \n",
        "                    HAVING COUNT(P.Gender='Male')>=1 AND P.Gender='Male'\"\"\"\n",
        "\n",
        "print(grader_5ab(query_5ab))\n",
        "\n",
        "\n",
        "# using the above queries, you can write the answer to the given question"
      ]
    },
    {
      "cell_type": "code",
      "execution_count": null,
      "metadata": {
        "colab": {
          "base_uri": "https://localhost:8080/"
        },
        "id": "zQOIawPME_Ix",
        "outputId": "86d0302a-6b3f-47de-eede-8ce4eeb0ff61"
      },
      "outputs": [
        {
          "name": "stdout",
          "output_type": "stream",
          "text": [
            "     year  movie_count\n",
            "0    1939            1\n",
            "1    1999            1\n",
            "2    2000            1\n",
            "3  I 2018            1\n",
            "CPU times: user 187 ms, sys: 5.04 ms, total: 192 ms\n",
            "Wall time: 196 ms\n"
          ]
        }
      ],
      "source": [
        "%%time\n",
        "def grader_5a(q5a):\n",
        "    q5a_results  = pd.read_sql_query(q5a,conn)\n",
        "    print(q5a_results.head(10))\n",
        "    assert (q5a_results.shape == (4,2))\n",
        "\n",
        "query5a = \"\"\" select m.year, count(*) as movie_count \n",
        "              from Movie m\n",
        "              join (select distinct mid from M_Cast  \n",
        "              where mid not in \n",
        "                (\n",
        "                  select mc.mid from M_Cast mc \n",
        "                  join Person p on p.pid = trim(mc.pid)\n",
        "                  where p.gender = 'Male'\n",
        "                )\n",
        "              )g on g.mid = m.mid   \n",
        "              group by m.year \"\"\"\n",
        "grader_5a(query5a)"
      ]
    },
    {
      "attachments": {},
      "cell_type": "markdown",
      "metadata": {
        "id": "cTiKejUfE_I1"
      },
      "source": [
        "## Now include a small change: report for each year the percentage of movies in that year with only female actors, and the total number of movies made that year. For example, one answer will be: 1990 31.81 13522 meaning that in 1990 there were 13,522 movies, and 31.81% had only female actors. You do not need to round your answer."
      ]
    },
    {
      "cell_type": "code",
      "execution_count": null,
      "metadata": {
        "colab": {
          "base_uri": "https://localhost:8080/"
        },
        "id": "Xv6iXvcZE_I2",
        "outputId": "5e8226bb-8531-475e-8188-7d4e403a081d"
      },
      "outputs": [
        {
          "name": "stdout",
          "output_type": "stream",
          "text": [
            "   YEAR  TOTAL_NUM_OF_MOV  PERCENT_OF_MOV_WITH_ONLY_FEMALE\n",
            "0  1939                 2                             50.0\n",
            "1  2000                64                              1.6\n",
            "2  1999                66                              1.5\n",
            "3  2018               104                              1.0\n",
            "CPU times: user 161 ms, sys: 799 µs, total: 162 ms\n",
            "Wall time: 166 ms\n"
          ]
        }
      ],
      "source": [
        "#REFERENCE:https://github.com/BhargavTumu/SQL-Practice-Questions/blob/master/Solutions.sql\n",
        "%%time\n",
        "def grader_5b(q5b):\n",
        "    q5b_results  = pd.read_sql_query(q5b,conn)\n",
        "    print(q5b_results)\n",
        "    assert (q5b_results.shape == (4,3))\n",
        "\n",
        "query5b = \"\"\" WITH\n",
        "    MOV_WITH_NON_FEMALE AS\n",
        "    (\n",
        "        SELECT\n",
        "            DISTINCT\n",
        "            MC.MID MID\n",
        "        FROM\n",
        "                    M_Cast MC\n",
        "            JOIN    Person P\n",
        "            ON      P.PID=TRIM(MC.PID)\n",
        "        WHERE\n",
        "            P.Gender IN ('Male','None') \n",
        "    ),\n",
        "    NUM_OF_MOV_WITH_ONLY_F_BY_YR AS\n",
        "    (\n",
        "    SELECT\n",
        "        CAST(SUBSTR(M.year,-4) AS INTEGER) YEAR,\n",
        "        COUNT(DISTINCT TRIM(MID) ) NUM_OF_MOV_WITH_ONLY_FEMALES\n",
        "    FROM\n",
        "        Movie M\n",
        "    WHERE\n",
        "        MID NOT IN (SELECT MID FROM MOV_WITH_NON_FEMALE)\n",
        "    GROUP BY \n",
        "        CAST(SUBSTR(M.year,-4) AS INTEGER)\n",
        "    ),\n",
        "    TOTAL_NUM_OF_MOV_BY_YEAR AS\n",
        "    (\n",
        "        SELECT\n",
        "            CAST(SUBSTR(M.year,-4) AS INTEGER) YEAR,\n",
        "            COUNT(DISTINCT MID ) TOTAL_NUM_OF_MOV\n",
        "        FROM\n",
        "            Movie M\n",
        "        GROUP BY\n",
        "            CAST(SUBSTR(M.year,-4) AS INTEGER)\n",
        "    )\n",
        "    SELECT\n",
        "        TOT_MOV.YEAR,\n",
        "        TOT_MOV.TOTAL_NUM_OF_MOV,\n",
        "        ROUND((MOV_F.NUM_OF_MOV_WITH_ONLY_FEMALES)*100.0/TOT_MOV.TOTAL_NUM_OF_MOV,1) PERCENT_OF_MOV_WITH_ONLY_FEMALE\n",
        "    FROM\n",
        "                TOTAL_NUM_OF_MOV_BY_YEAR TOT_MOV\n",
        "        JOIN\n",
        "                NUM_OF_MOV_WITH_ONLY_F_BY_YR MOV_F\n",
        "        ON      TOT_MOV.YEAR = MOV_F.YEAR\n",
        "        WHERE PERCENT_OF_MOV_WITH_ONLY_FEMALE!=0\n",
        "    ORDER BY\n",
        "        PERCENT_OF_MOV_WITH_ONLY_FEMALE DESC;\n",
        "\"\"\"\n",
        "grader_5b(query5b)"
      ]
    },
    {
      "attachments": {},
      "cell_type": "markdown",
      "metadata": {
        "id": "d5mvJcHDE_I6"
      },
      "source": [
        "## Find the film(s) with the largest cast. Return the movie title and the size of the cast. By \"cast size\" we mean the number of distinct actors that played in that movie: if an actor played multiple roles, or if it simply occurs multiple times in casts, we still count her/him only once."
      ]
    },
    {
      "cell_type": "code",
      "execution_count": null,
      "metadata": {
        "colab": {
          "base_uri": "https://localhost:8080/"
        },
        "id": "vpr9gGg6E_I7",
        "outputId": "1325cc5c-2522-4bc3-a6f5-aa01b2c99d8c"
      },
      "outputs": [
        {
          "name": "stdout",
          "output_type": "stream",
          "text": [
            "                        title  count\n",
            "0               Ocean's Eight    238\n",
            "1                    Apaharan    233\n",
            "2                        Gold    215\n",
            "3             My Name Is Khan    213\n",
            "4  Captain America: Civil War    191\n",
            "5                    Geostorm    170\n",
            "6                     Striker    165\n",
            "7                        2012    154\n",
            "8                      Pixels    144\n",
            "9       Yamla Pagla Deewana 2    140\n",
            "CPU times: user 166 ms, sys: 10.7 ms, total: 176 ms\n",
            "Wall time: 186 ms\n"
          ]
        }
      ],
      "source": [
        "%%time\n",
        "def grader_6(q6):\n",
        "    q6_results  = pd.read_sql_query(q6,conn)\n",
        "    print(q6_results.head(10))\n",
        "    assert (q6_results.shape == (3473, 2))\n",
        "\n",
        "query6 = \"\"\" SELECT m.title,COUNT(mc.PID) count \n",
        "             FROM Movie m \n",
        "             JOIN M_Cast mc ON m.MID=mc.MID \n",
        "             GROUP BY m.MID \n",
        "             ORDER BY count DESC\"\"\"\n",
        "grader_6(query6)"
      ]
    },
    {
      "attachments": {},
      "cell_type": "markdown",
      "metadata": {
        "id": "E6mOLxNgTby6"
      },
      "source": [
        "### A decade is a sequence of 10 consecutive years. \n",
        "### For example, say in your database you have movie information starting from 1931. \n",
        "### the first decade is 1931, 1932, ..., 1940,\n",
        "### the second decade is 1932, 1933, ..., 1941 and so on. \n",
        "### Find the decade D with the largest number of films and the total number of films in D"
      ]
    },
    {
      "cell_type": "code",
      "execution_count": null,
      "metadata": {
        "colab": {
          "base_uri": "https://localhost:8080/"
        },
        "id": "ZfOWt8IW23uE",
        "outputId": "a8c9cf01-7c49-4cc4-d643-a80f11c0a003"
      },
      "outputs": [
        {
          "name": "stdout",
          "output_type": "stream",
          "text": [
            "   Movie_Year  Total_Movies\n",
            "0        1931             1\n",
            "1        1936             3\n",
            "2        1939             2\n",
            "3        1941             1\n",
            "4        1943             1\n",
            "5        1946             2\n",
            "6        1947             2\n",
            "7        1948             3\n",
            "8        1949             3\n",
            "9        1950             2\n",
            "CPU times: user 9.18 ms, sys: 1.04 ms, total: 10.2 ms\n",
            "Wall time: 11.6 ms\n"
          ]
        }
      ],
      "source": [
        "%%time\n",
        "def grader_7a(q7a):\n",
        "    q7a_results  = pd.read_sql_query(q7a,conn)\n",
        "    print(q7a_results.head(10))\n",
        "    assert (q7a_results.shape == (78, 2))\n",
        "#*** Write a query that computes number of movies in each year ***\n",
        "query7a = \"\"\" SELECT CAST(SUBSTR(TRIM(m.year),-4) AS INTEGER) Movie_Year, COUNT(m.title) Total_Movies \n",
        "              FROM Movie m GROUP BY Movie_Year \n",
        "              ORDER BY Movie_Year \"\"\"\n",
        "grader_7a(query7a)\n",
        "\n",
        "# using the above query, you can write the answer to the given question"
      ]
    },
    {
      "cell_type": "code",
      "execution_count": null,
      "metadata": {
        "colab": {
          "base_uri": "https://localhost:8080/"
        },
        "id": "sBMzLrIY23uJ",
        "outputId": "31be7ef9-6ad2-4326-cd1f-081bdf256b8e"
      },
      "outputs": [
        {
          "name": "stdout",
          "output_type": "stream",
          "text": [
            "       M1   T1    M2   T2\n",
            "0    1931    1  1931    1\n",
            "1    1931    1  1936    3\n",
            "2    1931    1  1939    2\n",
            "3    1936    3  1936    3\n",
            "4    1936    3  1939    2\n",
            "..    ...  ...   ...  ...\n",
            "708  2016  129  2017  126\n",
            "709  2016  129  2018  104\n",
            "710  2017  126  2017  126\n",
            "711  2017  126  2018  104\n",
            "712  2018  104  2018  104\n",
            "\n",
            "[713 rows x 4 columns]\n",
            "CPU times: user 15.4 ms, sys: 1.91 ms, total: 17.3 ms\n",
            "Wall time: 17.9 ms\n"
          ]
        }
      ],
      "source": [
        "%%time\n",
        "def grader_7b(q7b):\n",
        "    q7b_results  = pd.read_sql_query(q7b,conn)\n",
        "    print(q7b_results)\n",
        "    assert (q7b_results.shape == (713, 4))\n",
        "query7b = \"\"\"WITH S1 AS\n",
        "              (\n",
        "                SELECT CAST(SUBSTR(TRIM(m.year),-4) AS INTEGER) Movie_Year, COUNT(m.title) Total_Movies \n",
        "              FROM Movie m GROUP BY Movie_Year \n",
        "              ORDER BY Movie_Year\n",
        "              ),\n",
        "              S2 AS\n",
        "              (\n",
        "                SELECT CAST(SUBSTR(TRIM(m.year),-4) AS INTEGER) Movie_Year, COUNT(m.title) Total_Movies \n",
        "              FROM Movie m GROUP BY Movie_Year \n",
        "              ORDER BY Movie_Year\n",
        "              )\n",
        "            \n",
        "              SELECT S1.Movie_Year M1,S1.Total_Movies T1,S2.Movie_Year M2,S2.Total_Movies T2\n",
        "              FROM S1 LEFT JOIN S2 \n",
        "              ON M2 <=M1+9 AND M2 >= M1\n",
        "              UNION ALL\n",
        "              \n",
        "              SELECT S1.Movie_Year M1,S1.Total_Movies T1,S2.Movie_Year M2,S2.Total_Movies T2\n",
        "              FROM S2 LEFT JOIN S1 \n",
        "              ON M2 <=M1+9 AND M2 >= M1\n",
        "              WHERE M2 IS NULL\n",
        "             \n",
        "             \n",
        "             \n",
        "                  \"\"\"\n",
        "grader_7b(query7b)\n",
        "#HAVING m2.year<= m.year+9 AND m2.year>=m.year WHERE m2.year<= m.year+9 || m2.year>=m.year\n",
        "# if you see the below results the first movie year is less than 2nd movie year and \n",
        "# 2nd movie year is less or equal to the first movie year+9\n",
        "\n",
        "# using the above query, you can write the answer to the given question"
      ]
    },
    {
      "cell_type": "code",
      "execution_count": null,
      "metadata": {
        "colab": {
          "base_uri": "https://localhost:8080/"
        },
        "id": "NKqbguuqE_JA",
        "outputId": "2b8486fe-f4ae-40a6-d920-40777d5a64c4"
      },
      "outputs": [
        {
          "name": "stdout",
          "output_type": "stream",
          "text": [
            "             DECADE  TOTAL_MOVIES\n",
            "0  Decade of : 2008          1203\n",
            "CPU times: user 25.7 ms, sys: 0 ns, total: 25.7 ms\n",
            "Wall time: 38.2 ms\n"
          ]
        }
      ],
      "source": [
        "#REFERENCE:https://github.com/BhargavTumu/SQL-Practice-Questions/blob/master/Solutions.sql\n",
        "%%time\n",
        "def grader_7(q7):\n",
        "    q7_results  = pd.read_sql_query(q7,conn)\n",
        "    print(q7_results.head(10))\n",
        "    assert (q7_results.shape == (1, 2))\n",
        "#*** Write a query that will return the decade that has maximum number of movies ***\n",
        "query7 = \"\"\" WITH \n",
        "    DISTINCT_YEARS AS\n",
        "    (\n",
        "    SELECT\n",
        "        DISTINCT\n",
        "        CAST(SUBSTR(year,-4) AS UNSIGNED) YEAR,\n",
        "        CAST(SUBSTR(year,-4) AS UNSIGNED) START_OF_DECADE,\n",
        "        CAST(SUBSTR(year,-4) AS UNSIGNED)+9 END_OF_DECADE,\n",
        "        'Decade of : ' || SUBSTR(year,-4)  DECADE\n",
        "    FROM\n",
        "        Movie\n",
        "    ),\n",
        "    NUMBER_OF_MOV_BY_YR AS\n",
        "    (\n",
        "    SELECT\n",
        "    COUNT(DISTINCT MID) NUM_OF_MOV,\n",
        "    CAST(SUBSTR(year,-4) AS UNSIGNED) YEAR\n",
        "    FROM\n",
        "        Movie\n",
        "    GROUP BY\n",
        "        CAST(SUBSTR(year,-4) AS UNSIGNED)\n",
        "    ),\n",
        "    NUM_OF_MOV_IN_DECADE AS \n",
        "    (\n",
        "    SELECT\n",
        "        SUM(NUM_OF_MOV) TOTAL_MOVIES,\n",
        "        DY.DECADE\n",
        "    FROM\n",
        "        NUMBER_OF_MOV_BY_YR NM,\n",
        "        DISTINCT_YEARS DY\n",
        "    WHERE\n",
        "        NM.YEAR BETWEEN DY.START_OF_DECADE AND DY.END_OF_DECADE\n",
        "    GROUP BY\n",
        "        DY.DECADE\n",
        "    )\n",
        "    SELECT\n",
        "        DECADE,\n",
        "        TOTAL_MOVIES\n",
        "    FROM\n",
        "        NUM_OF_MOV_IN_DECADE\n",
        "    WHERE\n",
        "        TOTAL_MOVIES = (\n",
        "            SELECT\n",
        "                MAX(TOTAL_MOVIES)\n",
        "            FROM\n",
        "                NUM_OF_MOV_IN_DECADE\n",
        "            )\"\"\"\n",
        "grader_7(query7)\n",
        "# if you check the output we are printinng all the year in that decade, its fine you can print 2008 or 2008-2017"
      ]
    },
    {
      "attachments": {},
      "cell_type": "markdown",
      "metadata": {
        "id": "Jbm3Oy3hT8d9"
      },
      "source": [
        "## Find all the actors that made more movies with Yash Chopra than any other director."
      ]
    },
    {
      "cell_type": "code",
      "execution_count": null,
      "metadata": {
        "colab": {
          "base_uri": "https://localhost:8080/"
        },
        "id": "DZJ7WMrk23uR",
        "outputId": "44b15253-c095-41e9-88d6-52e0f52d0523"
      },
      "outputs": [
        {
          "name": "stdout",
          "output_type": "stream",
          "text": [
            "        actor   director  movies\n",
            "0   nm0000002  nm0496746       1\n",
            "1   nm0000027  nm0000180       1\n",
            "2   nm0000039  nm0896533       1\n",
            "3   nm0000042  nm0896533       1\n",
            "4   nm0000047  nm0004292       1\n",
            "5   nm0000073  nm0485943       1\n",
            "6   nm0000076  nm0000229       1\n",
            "7   nm0000092  nm0178997       1\n",
            "8   nm0000093  nm0000269       1\n",
            "9   nm0000096  nm0113819       1\n",
            "CPU times: user 401 ms, sys: 25.9 ms, total: 427 ms\n",
            "Wall time: 429 ms\n"
          ]
        }
      ],
      "source": [
        "%%time\n",
        "def grader_8a(q8a):\n",
        "    q8a_results  = pd.read_sql_query(q8a,conn)\n",
        "    print(q8a_results.head(10))\n",
        "    assert (q8a_results.shape == (73408, 3))\n",
        "#*** Write a query that will results in number of movies actor-director worked together ***\n",
        "query8a = \"\"\" SELECT DISTINCT mc.PID actor,md.PID director,COUNT(md.MID) movies \n",
        "              FROM M_Director md \n",
        "              JOIN M_Cast mc ON md.MID=mc.MID \n",
        "              GROUP BY  mc.PID,md.PID\"\"\"\n",
        "grader_8a(query8a)\n",
        "\n",
        "# using the above query, you can write the answer to the given question"
      ]
    },
    {
      "cell_type": "code",
      "execution_count": null,
      "metadata": {
        "colab": {
          "base_uri": "https://localhost:8080/"
        },
        "id": "SYMTcHixE_JH",
        "outputId": "ede41332-73ed-4140-fcf6-dd1b290ee4eb"
      },
      "outputs": [
        {
          "name": "stdout",
          "output_type": "stream",
          "text": [
            "                Name  Count\n",
            "0        Jagdish Raj     11\n",
            "1   Manmohan Krishna     10\n",
            "2           Iftekhar      9\n",
            "3      Shashi Kapoor      7\n",
            "4      Rakhee Gulzar      5\n",
            "5     Waheeda Rehman      5\n",
            "6           Ravikant      4\n",
            "7     Achala Sachdev      4\n",
            "8        Neetu Singh      4\n",
            "9      Leela Chitnis      3\n",
            "(245, 2)\n",
            "CPU times: user 1.23 s, sys: 36.9 ms, total: 1.27 s\n",
            "Wall time: 1.27 s\n"
          ]
        }
      ],
      "source": [
        "#REFERENCE:https://github.com/BhargavTumu/SQL-Practice-Questions/blob/master/Solutions.sql\n",
        "%%time\n",
        "\n",
        "def grader_8(q8):\n",
        "    q8_results  = pd.read_sql_query(q8,conn)\n",
        "    print(q8_results.head(10))\n",
        "    print(q8_results.shape)\n",
        "    assert (q8_results.shape == (245, 2))\n",
        "\n",
        "query8 = \"\"\"WITH\n",
        "    YASH_CHOPRAS_PID AS\n",
        "    (\n",
        "        SELECT\n",
        "            TRIM(p.PID) AS PID\n",
        "        FROM\n",
        "            Person p\n",
        "        WHERE\n",
        "            Trim(p.Name) = 'Yash Chopra'\n",
        "    ),\n",
        "    NUM_OF_MOV_BY_ACTOR_DIRECTOR AS\n",
        "    (\n",
        "        SELECT\n",
        "            TRIM(MC.PID) actor_pid,\n",
        "            MD.PID dir_pid,\n",
        "            COUNT(DISTINCT TRIM(MD.MID)) AS NUM_OF_MOV\n",
        "        FROM\n",
        "            M_Cast MC,\n",
        "            M_Director MD\n",
        "        WHERE\n",
        "            trim(MC.MID)= MD.MID\n",
        "        GROUP BY\n",
        "            dir_pid,\n",
        "            actor_pid\n",
        "    ),\n",
        "    NUM_OF_MOVIES_BY_YC AS\n",
        "    (\n",
        "        SELECT\n",
        "            NM.dir_pid,\n",
        "            NM.actor_pid,\n",
        "            NM.NUM_OF_MOV NUM_OF_MOV_BY_YC\n",
        "        FROM\n",
        "            NUM_OF_MOV_BY_ACTOR_DIRECTOR NM,\n",
        "            YASH_CHOPRAS_PID YCP\n",
        "        WHERE\n",
        "            NM.dir_pid = YCP.PID\n",
        "    ),\n",
        "    MAX_MOV_BY_OTHER_DIRECTORS AS\n",
        "    (\n",
        "        SELECT\n",
        "            actor_pid,\n",
        "            MAX(NUM_OF_MOV) MAX_NUM_OF_MOV\n",
        "        FROM\n",
        "            NUM_OF_MOV_BY_ACTOR_DIRECTOR NM,\n",
        "            YASH_CHOPRAS_PID YCP\n",
        "        WHERE\n",
        "            NM.dir_pid <> YCP.PID \n",
        "        GROUP BY\n",
        "            actor_pid\n",
        "    ),\n",
        "    ACTORS_MOV_COMPARISION AS\n",
        "    (\n",
        "    SELECT\n",
        "        NMY.actor_pid,\n",
        "        CASE WHEN NMY.NUM_OF_MOV_BY_YC >= IFNULL(NMO.MAX_NUM_OF_MOV,0) THEN 'Y' ELSE 'N' END MORE_MOV_BY_YC\n",
        "    FROM\n",
        "        NUM_OF_MOVIES_BY_YC NMY\n",
        "        LEFT OUTER JOIN\n",
        "        MAX_MOV_BY_OTHER_DIRECTORS NMO\n",
        "        ON\n",
        "        NMY.actor_pid = NMO.actor_pid\n",
        "    )\n",
        "    SELECT\n",
        "        \n",
        "        p.Name Name,NMY.NUM_OF_MOV_BY_YC Count\n",
        "    FROM\n",
        "         Person p JOIN NUM_OF_MOVIES_BY_YC NMY on p.PID=NMY.actor_pid\n",
        "    WHERE\n",
        "        p.PID IN (\n",
        "            SELECT\n",
        "               DISTINCT \n",
        "                actor_pid\n",
        "            FROM\n",
        "                ACTORS_MOV_COMPARISION\n",
        "            WHERE\n",
        "                MORE_MOV_BY_YC = 'Y'\n",
        "                \n",
        "\n",
        "        )\n",
        "        ORDER BY NMY.NUM_OF_MOV_BY_YC DESC\n",
        "        \"\"\"\n",
        "grader_8(query8)"
      ]
    },
    {
      "attachments": {},
      "cell_type": "markdown",
      "metadata": {
        "id": "2j8Fc9jUUJ9C"
      },
      "source": [
        "## The Shahrukh number of an actor is the length of the shortest path between the actor and Shahrukh Khan in the \"co-acting\" graph. That is, Shahrukh Khan has Shahrukh number 0; all actors who acted in the same film as Shahrukh have Shahrukh number 1; all actors who acted in the same film as some actor with Shahrukh number 1 have Shahrukh number 2, etc. Return all actors whose Shahrukh number is 2."
      ]
    },
    {
      "cell_type": "code",
      "execution_count": null,
      "metadata": {
        "colab": {
          "base_uri": "https://localhost:8080/"
        },
        "id": "3FnJ_19z23ub",
        "outputId": "25c81435-c1c7-48e7-8727-0ace188ae80c"
      },
      "outputs": [
        {
          "name": "stdout",
          "output_type": "stream",
          "text": [
            "         PID\n",
            "0  nm0004418\n",
            "1  nm1995953\n",
            "2  nm2778261\n",
            "3  nm0631373\n",
            "4  nm0241935\n",
            "5  nm0792116\n",
            "6  nm1300111\n",
            "7  nm0196375\n",
            "8  nm1464837\n",
            "9  nm2868019\n",
            "(2382, 1)\n",
            "CPU times: user 63.6 ms, sys: 3.87 ms, total: 67.5 ms\n",
            "Wall time: 73.6 ms\n"
          ]
        }
      ],
      "source": [
        "%%time\n",
        "def grader_9a(q9a):\n",
        "    q9a_results  = pd.read_sql_query(q9a,conn)\n",
        "    print(q9a_results.head(10))\n",
        "    print(q9a_results.shape)\n",
        "    assert (q9a_results.shape == (2382, 1))\n",
        "\n",
        "query9a = \"\"\"   WITH \n",
        "    SHAHRUKH_0 AS\n",
        "    (\n",
        "        SELECT\n",
        "            TRIM(P.PID) PID\n",
        "        FROM\n",
        "            Person P\n",
        "        WHERE\n",
        "            Trim(P.Name) like '%shah rukh%'\n",
        "    ),\n",
        "    SHAHRUKH_1_MOVS AS\n",
        "    (\n",
        "        SELECT\n",
        "            DISTINCT\n",
        "            TRIM(MC.MID) MID,\n",
        "            S0.PID\n",
        "        FROM\n",
        "            M_Cast MC,\n",
        "            SHAHRUKH_0 S0\n",
        "        WHERE\n",
        "            TRIM(MC.PID) = S0.PID\n",
        "    )\n",
        "   \n",
        "    \n",
        "        SELECT\n",
        "            DISTINCT\n",
        "            TRIM(MC.PID) PID\n",
        "        FROM\n",
        "            M_Cast MC,\n",
        "            SHAHRUKH_1_MOVS S1M\n",
        "        WHERE\n",
        "            TRIM(MC.MID) = S1M.MID AND\n",
        "            TRIM(MC.PID) <> S1M.PID\n",
        "              \n",
        "              \"\"\"\n",
        "grader_9a(query9a)\n",
        "# using the above query, you can write the answer to the given question\n",
        "\n",
        "# selecting actors who acted with srk (S1)\n",
        "# selecting all movies where S1 actors acted, this forms S2 movies list\n",
        "# selecting all actors who acted in S2 movies, this gives us S2 actors along with S1 actors\n",
        "# removing S1 actors from the combined list of S1 & S2 actors, so that we get only S2 actors"
      ]
    },
    {
      "cell_type": "code",
      "execution_count": null,
      "metadata": {
        "colab": {
          "base_uri": "https://localhost:8080/"
        },
        "id": "5o6imc82E_JS",
        "outputId": "dc9b7590-7f2f-4196-fcd9-36a8ba06b775"
      },
      "outputs": [
        {
          "name": "stdout",
          "output_type": "stream",
          "text": [
            "                    Name\n",
            "0           Freida Pinto\n",
            "1            Rohan Chand\n",
            "2           Damian Young\n",
            "3        Waris Ahluwalia\n",
            "4  Caroline Christl Long\n",
            "5          Rajeev Pahuja\n",
            "6      Michelle Santiago\n",
            "7        Alicia Vikander\n",
            "8           Dominic West\n",
            "9         Walton Goggins\n",
            "(25698, 1)\n",
            "CPU times: user 447 ms, sys: 12.9 ms, total: 460 ms\n",
            "Wall time: 461 ms\n"
          ]
        }
      ],
      "source": [
        "%%time\n",
        "def grader_9(q9):\n",
        "    q9_results  = pd.read_sql_query(q9,conn)\n",
        "    print(q9_results.head(10))\n",
        "    print(q9_results.shape)\n",
        "    assert (q9_results.shape == (25698, 1))\n",
        "\n",
        "query9 = \"\"\"WITH \n",
        "    SHAHRUKH_0 AS\n",
        "    (\n",
        "        SELECT\n",
        "            TRIM(P.PID) PID\n",
        "        FROM\n",
        "            Person P\n",
        "        WHERE\n",
        "            Trim(P.Name) like '%shah rukh%'\n",
        "    ),\n",
        "    SHAHRUKH_1_MOVS AS\n",
        "    (\n",
        "        SELECT\n",
        "            DISTINCT\n",
        "            TRIM(MC.MID) MID,\n",
        "            S0.PID\n",
        "        FROM\n",
        "            M_Cast MC,\n",
        "            SHAHRUKH_0 S0\n",
        "        WHERE\n",
        "            TRIM(MC.PID) = S0.PID\n",
        "    ),\n",
        "    SHAHRUKH_1_ACTORS AS\n",
        "    (\n",
        "        SELECT\n",
        "            DISTINCT\n",
        "            TRIM(MC.PID) PID\n",
        "        FROM\n",
        "            M_Cast MC,\n",
        "            SHAHRUKH_1_MOVS S1M\n",
        "        WHERE\n",
        "            TRIM(MC.MID) = S1M.MID AND\n",
        "            TRIM(MC.PID) <> S1M.PID\n",
        "   ),\n",
        "    SHAHRUKH_2_MOVS AS\n",
        "    (\n",
        "        SELECT\n",
        "            DISTINCT\n",
        "            TRIM(MC.MID) MID\n",
        "          \n",
        "        FROM\n",
        "            M_Cast MC,\n",
        "            SHAHRUKH_1_ACTORS S1A\n",
        "        WHERE\n",
        "            TRIM(MC.PID) = S1A.PID \n",
        "            ),\n",
        "       SHAHRUKH_2_ACTORS AS\n",
        "       (   \n",
        "     SELECT DISTINCT TRIM(MC.PID) PID\n",
        "      FROM M_Cast MC,SHAHRUKH_2_MOVS S2M, SHAHRUKH_0 S0\n",
        "      WHERE TRIM(MC.MID)=S2M.MID AND \n",
        "      TRIM(MC.PID) != S0.PID\n",
        "   ),\n",
        "   ONLY_S2 AS\n",
        "   (\n",
        "   SELECT DISTINCT TRIM(S2A.PID) PID\n",
        "   FROM SHAHRUKH_2_ACTORS S2A LEFT JOIN SHAHRUKH_1_ACTORS S1A ON S2A.PID = S1A.PID\n",
        "   WHERE S1A.PID IS NULL\n",
        "    )\n",
        "    SELECT trim(P.Name) Name\n",
        "    FROM Person P, ONLY_S2 OS2\n",
        "    WHERE P.PID=OS2.PID\"\"\"\n",
        "grader_9(query9)"
      ]
    }
  ],
  "metadata": {
    "colab": {
      "provenance": []
    },
    "kernelspec": {
      "display_name": "Python 3",
      "language": "python",
      "name": "python3"
    },
    "language_info": {
      "codemirror_mode": {
        "name": "ipython",
        "version": 3
      },
      "file_extension": ".py",
      "mimetype": "text/x-python",
      "name": "python",
      "nbconvert_exporter": "python",
      "pygments_lexer": "ipython3",
      "version": "3.6.2"
    }
  },
  "nbformat": 4,
  "nbformat_minor": 0
}
